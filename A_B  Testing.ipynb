{
 "cells": [
  {
   "cell_type": "markdown",
   "id": "45ea1c5f-bed7-412d-b6e0-1700164d051e",
   "metadata": {},
   "source": [
    "# A/B Testing Marketing Promotions\n",
    "\n",
    "Which promotion was the most effective?\n",
    "\n",
    "**Scenario:**\n",
    "\n",
    "A fast food chain plans to add a new item to its menu. However, they are still undecided between three possible marketing campaigns for promoting the new product. In order to determine which promotion has the greatest effect on sales, the new item is introduced at locations in several randomly selected markets. A different promotion is used at each location, and the weekly sales of the new item are recorded for the first four weeks\n",
    "\n",
    "**The description of the data set:**\n",
    "Our data set consists of 548 entries including:\n",
    "- MarketId: an inhouse tag used to describe market types, we won't be using it\n",
    "- AgeOfStores: Age of store in years (1–28). The mean age of a store is 8.5 years.\n",
    "- LocationID: Unique identifier for store location. Each location is identified by a number. The total number of stores is 137.\n",
    "- Promotion: One of three promotions that were tested (1, 2, 3). We don’t really know the specifics of each promotion.\n",
    "- Sales in Thousands: Sales amount for a specific LocationID, Promotion and week. The mean amount of sales are 53.5 thousand dollars.\n",
    "- Market size: there are three types of market size: small, medium and large.\n",
    "- Week: One of four weeks when the promotions were run (1–4)."
   ]
  },
  {
   "cell_type": "markdown",
   "id": "b5fa30cc-a558-4e74-afad-62bfca4c749a",
   "metadata": {},
   "source": [
    "### Data Import and Pre-processing"
   ]
  },
  {
   "cell_type": "code",
   "execution_count": 3,
   "id": "749e05bd-249e-4a2e-a6f2-4b216c93c159",
   "metadata": {},
   "outputs": [],
   "source": [
    "import pandas as pd\n",
    "import numpy as np                     # For mathematical calculations\n",
    "import seaborn as sns                  # For data visualization\n",
    "sns.set_style('whitegrid')\n",
    "import matplotlib.pyplot as plt        #For plotting graphs\n",
    "%matplotlib inline                    \n",
    "import warnings                        # To ignore any warnings\n",
    "warnings.filterwarnings(\"ignore\")\n",
    "import gc\n",
    "import datetime"
   ]
  },
  {
   "cell_type": "code",
   "execution_count": 7,
   "id": "9473d80b-7a7e-4aa0-ad3e-43efbb376e11",
   "metadata": {},
   "outputs": [
    {
     "data": {
      "text/html": [
       "<div>\n",
       "<style scoped>\n",
       "    .dataframe tbody tr th:only-of-type {\n",
       "        vertical-align: middle;\n",
       "    }\n",
       "\n",
       "    .dataframe tbody tr th {\n",
       "        vertical-align: top;\n",
       "    }\n",
       "\n",
       "    .dataframe thead th {\n",
       "        text-align: right;\n",
       "    }\n",
       "</style>\n",
       "<table border=\"1\" class=\"dataframe\">\n",
       "  <thead>\n",
       "    <tr style=\"text-align: right;\">\n",
       "      <th></th>\n",
       "      <th>MarketID</th>\n",
       "      <th>MarketSize</th>\n",
       "      <th>LocationID</th>\n",
       "      <th>AgeOfStore</th>\n",
       "      <th>Promotion</th>\n",
       "      <th>week</th>\n",
       "      <th>SalesInThousands</th>\n",
       "    </tr>\n",
       "  </thead>\n",
       "  <tbody>\n",
       "    <tr>\n",
       "      <th>0</th>\n",
       "      <td>1</td>\n",
       "      <td>Medium</td>\n",
       "      <td>1</td>\n",
       "      <td>4</td>\n",
       "      <td>3</td>\n",
       "      <td>1</td>\n",
       "      <td>33.73</td>\n",
       "    </tr>\n",
       "    <tr>\n",
       "      <th>1</th>\n",
       "      <td>1</td>\n",
       "      <td>Medium</td>\n",
       "      <td>1</td>\n",
       "      <td>4</td>\n",
       "      <td>3</td>\n",
       "      <td>2</td>\n",
       "      <td>35.67</td>\n",
       "    </tr>\n",
       "    <tr>\n",
       "      <th>2</th>\n",
       "      <td>1</td>\n",
       "      <td>Medium</td>\n",
       "      <td>1</td>\n",
       "      <td>4</td>\n",
       "      <td>3</td>\n",
       "      <td>3</td>\n",
       "      <td>29.03</td>\n",
       "    </tr>\n",
       "    <tr>\n",
       "      <th>3</th>\n",
       "      <td>1</td>\n",
       "      <td>Medium</td>\n",
       "      <td>1</td>\n",
       "      <td>4</td>\n",
       "      <td>3</td>\n",
       "      <td>4</td>\n",
       "      <td>39.25</td>\n",
       "    </tr>\n",
       "    <tr>\n",
       "      <th>4</th>\n",
       "      <td>1</td>\n",
       "      <td>Medium</td>\n",
       "      <td>2</td>\n",
       "      <td>5</td>\n",
       "      <td>2</td>\n",
       "      <td>1</td>\n",
       "      <td>27.81</td>\n",
       "    </tr>\n",
       "  </tbody>\n",
       "</table>\n",
       "</div>"
      ],
      "text/plain": [
       "   MarketID MarketSize  LocationID  AgeOfStore  Promotion  week  \\\n",
       "0         1     Medium           1           4          3     1   \n",
       "1         1     Medium           1           4          3     2   \n",
       "2         1     Medium           1           4          3     3   \n",
       "3         1     Medium           1           4          3     4   \n",
       "4         1     Medium           2           5          2     1   \n",
       "\n",
       "   SalesInThousands  \n",
       "0             33.73  \n",
       "1             35.67  \n",
       "2             29.03  \n",
       "3             39.25  \n",
       "4             27.81  "
      ]
     },
     "execution_count": 7,
     "metadata": {},
     "output_type": "execute_result"
    }
   ],
   "source": [
    "# Loading Data\n",
    "file_name = \"https://raw.githubusercontent.com/rajeevratan84/datascienceforbusiness/master/WA_Fn-UseC_-Marketing-Campaign-Eff-UseC_-FastF.csv\"\n",
    "df = pd.read_csv(file_name)\n",
    "df.head()"
   ]
  },
  {
   "cell_type": "code",
   "execution_count": 11,
   "id": "0d0b0005-87ac-47b9-9957-c1f46af67a6b",
   "metadata": {},
   "outputs": [
    {
     "data": {
      "text/plain": [
       "(548, 7)"
      ]
     },
     "execution_count": 11,
     "metadata": {},
     "output_type": "execute_result"
    }
   ],
   "source": [
    "#To show total rows and columns\n",
    "df.shape"
   ]
  },
  {
   "cell_type": "code",
   "execution_count": 15,
   "id": "990a43ee-8a26-45f0-8bca-afe8dfa8a428",
   "metadata": {},
   "outputs": [
    {
     "name": "stdout",
     "output_type": "stream",
     "text": [
      "<class 'pandas.core.frame.DataFrame'>\n",
      "RangeIndex: 548 entries, 0 to 547\n",
      "Data columns (total 7 columns):\n",
      " #   Column            Non-Null Count  Dtype  \n",
      "---  ------            --------------  -----  \n",
      " 0   MarketID          548 non-null    int64  \n",
      " 1   MarketSize        548 non-null    object \n",
      " 2   LocationID        548 non-null    int64  \n",
      " 3   AgeOfStore        548 non-null    int64  \n",
      " 4   Promotion         548 non-null    int64  \n",
      " 5   week              548 non-null    int64  \n",
      " 6   SalesInThousands  548 non-null    float64\n",
      "dtypes: float64(1), int64(5), object(1)\n",
      "memory usage: 30.1+ KB\n"
     ]
    }
   ],
   "source": [
    "df.info()"
   ]
  },
  {
   "cell_type": "code",
   "execution_count": 17,
   "id": "36f884a7-4983-4b0a-8569-82c2e8b3cc15",
   "metadata": {},
   "outputs": [
    {
     "name": "stdout",
     "output_type": "stream",
     "text": [
      "MarketID            0\n",
      "MarketSize          0\n",
      "LocationID          0\n",
      "AgeOfStore          0\n",
      "Promotion           0\n",
      "week                0\n",
      "SalesInThousands    0\n",
      "dtype: int64\n"
     ]
    }
   ],
   "source": [
    "# Check for null values\n",
    "print(df.isnull().sum())\n"
   ]
  },
  {
   "cell_type": "code",
   "execution_count": 19,
   "id": "1308e6d0-014c-49f7-b287-e45d1f14e80b",
   "metadata": {},
   "outputs": [
    {
     "data": {
      "text/plain": [
       "0"
      ]
     },
     "execution_count": 19,
     "metadata": {},
     "output_type": "execute_result"
    }
   ],
   "source": [
    "# To check any duplicate rows\n",
    "df.duplicated().sum()"
   ]
  },
  {
   "cell_type": "code",
   "execution_count": 27,
   "id": "f3339b96-dada-4e4e-bd45-8e62499129f9",
   "metadata": {},
   "outputs": [
    {
     "data": {
      "text/plain": [
       "MarketID             10\n",
       "MarketSize            3\n",
       "LocationID          137\n",
       "AgeOfStore           25\n",
       "Promotion             3\n",
       "week                  4\n",
       "SalesInThousands    517\n",
       "dtype: int64"
      ]
     },
     "execution_count": 27,
     "metadata": {},
     "output_type": "execute_result"
    }
   ],
   "source": [
    "# unique count on each column\n",
    "df.nunique()"
   ]
  },
  {
   "cell_type": "code",
   "execution_count": 35,
   "id": "4c5c1a51-f4e4-4c89-9430-5ea2c5d63e86",
   "metadata": {},
   "outputs": [
    {
     "data": {
      "text/plain": [
       "Promotion\n",
       "3    188\n",
       "2    188\n",
       "1    172\n",
       "Name: count, dtype: int64"
      ]
     },
     "execution_count": 35,
     "metadata": {},
     "output_type": "execute_result"
    }
   ],
   "source": [
    "df.Promotion.value_counts()"
   ]
  },
  {
   "cell_type": "markdown",
   "id": "086c3abe-6328-4202-820b-b6b8feb2ffaf",
   "metadata": {},
   "source": [
    "### Basic Statistical Details "
   ]
  },
  {
   "cell_type": "code",
   "execution_count": 39,
   "id": "199d3d3d-0044-43bf-b8ef-d88871d28d2d",
   "metadata": {},
   "outputs": [
    {
     "data": {
      "text/html": [
       "<div>\n",
       "<style scoped>\n",
       "    .dataframe tbody tr th:only-of-type {\n",
       "        vertical-align: middle;\n",
       "    }\n",
       "\n",
       "    .dataframe tbody tr th {\n",
       "        vertical-align: top;\n",
       "    }\n",
       "\n",
       "    .dataframe thead th {\n",
       "        text-align: right;\n",
       "    }\n",
       "</style>\n",
       "<table border=\"1\" class=\"dataframe\">\n",
       "  <thead>\n",
       "    <tr style=\"text-align: right;\">\n",
       "      <th></th>\n",
       "      <th>count</th>\n",
       "      <th>mean</th>\n",
       "      <th>std</th>\n",
       "      <th>min</th>\n",
       "      <th>25%</th>\n",
       "      <th>50%</th>\n",
       "      <th>75%</th>\n",
       "      <th>max</th>\n",
       "    </tr>\n",
       "  </thead>\n",
       "  <tbody>\n",
       "    <tr>\n",
       "      <th>MarketID</th>\n",
       "      <td>548.0</td>\n",
       "      <td>5.715328</td>\n",
       "      <td>2.877001</td>\n",
       "      <td>1.00</td>\n",
       "      <td>3.000</td>\n",
       "      <td>6.0</td>\n",
       "      <td>8.0000</td>\n",
       "      <td>10.00</td>\n",
       "    </tr>\n",
       "    <tr>\n",
       "      <th>LocationID</th>\n",
       "      <td>548.0</td>\n",
       "      <td>479.656934</td>\n",
       "      <td>287.973679</td>\n",
       "      <td>1.00</td>\n",
       "      <td>216.000</td>\n",
       "      <td>504.0</td>\n",
       "      <td>708.0000</td>\n",
       "      <td>920.00</td>\n",
       "    </tr>\n",
       "    <tr>\n",
       "      <th>AgeOfStore</th>\n",
       "      <td>548.0</td>\n",
       "      <td>8.503650</td>\n",
       "      <td>6.638345</td>\n",
       "      <td>1.00</td>\n",
       "      <td>4.000</td>\n",
       "      <td>7.0</td>\n",
       "      <td>12.0000</td>\n",
       "      <td>28.00</td>\n",
       "    </tr>\n",
       "    <tr>\n",
       "      <th>Promotion</th>\n",
       "      <td>548.0</td>\n",
       "      <td>2.029197</td>\n",
       "      <td>0.810729</td>\n",
       "      <td>1.00</td>\n",
       "      <td>1.000</td>\n",
       "      <td>2.0</td>\n",
       "      <td>3.0000</td>\n",
       "      <td>3.00</td>\n",
       "    </tr>\n",
       "    <tr>\n",
       "      <th>week</th>\n",
       "      <td>548.0</td>\n",
       "      <td>2.500000</td>\n",
       "      <td>1.119055</td>\n",
       "      <td>1.00</td>\n",
       "      <td>1.750</td>\n",
       "      <td>2.5</td>\n",
       "      <td>3.2500</td>\n",
       "      <td>4.00</td>\n",
       "    </tr>\n",
       "    <tr>\n",
       "      <th>SalesInThousands</th>\n",
       "      <td>548.0</td>\n",
       "      <td>53.466204</td>\n",
       "      <td>16.755216</td>\n",
       "      <td>17.34</td>\n",
       "      <td>42.545</td>\n",
       "      <td>50.2</td>\n",
       "      <td>60.4775</td>\n",
       "      <td>99.65</td>\n",
       "    </tr>\n",
       "  </tbody>\n",
       "</table>\n",
       "</div>"
      ],
      "text/plain": [
       "                  count        mean         std    min      25%    50%  \\\n",
       "MarketID          548.0    5.715328    2.877001   1.00    3.000    6.0   \n",
       "LocationID        548.0  479.656934  287.973679   1.00  216.000  504.0   \n",
       "AgeOfStore        548.0    8.503650    6.638345   1.00    4.000    7.0   \n",
       "Promotion         548.0    2.029197    0.810729   1.00    1.000    2.0   \n",
       "week              548.0    2.500000    1.119055   1.00    1.750    2.5   \n",
       "SalesInThousands  548.0   53.466204   16.755216  17.34   42.545   50.2   \n",
       "\n",
       "                       75%     max  \n",
       "MarketID            8.0000   10.00  \n",
       "LocationID        708.0000  920.00  \n",
       "AgeOfStore         12.0000   28.00  \n",
       "Promotion           3.0000    3.00  \n",
       "week                3.2500    4.00  \n",
       "SalesInThousands   60.4775   99.65  "
      ]
     },
     "execution_count": 39,
     "metadata": {},
     "output_type": "execute_result"
    }
   ],
   "source": [
    "#numerical Columns\n",
    "df.describe().T"
   ]
  },
  {
   "cell_type": "code",
   "execution_count": 44,
   "id": "a9a25801-fd99-409d-acf7-29719fdcaf01",
   "metadata": {},
   "outputs": [
    {
     "data": {
      "text/html": [
       "<div>\n",
       "<style scoped>\n",
       "    .dataframe tbody tr th:only-of-type {\n",
       "        vertical-align: middle;\n",
       "    }\n",
       "\n",
       "    .dataframe tbody tr th {\n",
       "        vertical-align: top;\n",
       "    }\n",
       "\n",
       "    .dataframe thead th {\n",
       "        text-align: right;\n",
       "    }\n",
       "</style>\n",
       "<table border=\"1\" class=\"dataframe\">\n",
       "  <thead>\n",
       "    <tr style=\"text-align: right;\">\n",
       "      <th></th>\n",
       "      <th>count</th>\n",
       "      <th>unique</th>\n",
       "      <th>top</th>\n",
       "      <th>freq</th>\n",
       "    </tr>\n",
       "  </thead>\n",
       "  <tbody>\n",
       "    <tr>\n",
       "      <th>MarketSize</th>\n",
       "      <td>548</td>\n",
       "      <td>3</td>\n",
       "      <td>Medium</td>\n",
       "      <td>320</td>\n",
       "    </tr>\n",
       "  </tbody>\n",
       "</table>\n",
       "</div>"
      ],
      "text/plain": [
       "           count unique     top freq\n",
       "MarketSize   548      3  Medium  320"
      ]
     },
     "execution_count": 44,
     "metadata": {},
     "output_type": "execute_result"
    }
   ],
   "source": [
    "# String Columns\n",
    "str_cols= df.select_dtypes(\"object\").columns\n",
    "df[str_cols].describe().T"
   ]
  },
  {
   "cell_type": "code",
   "execution_count": 53,
   "id": "86d2e9e2-9f7b-46b5-9a5e-f8fa5d4736c8",
   "metadata": {},
   "outputs": [
    {
     "data": {
      "image/png": "[encoded data removed]",
      "text/plain": [
       "<Figure size 1000x600 with 2 Axes>"
      ]
     },
     "metadata": {},
     "output_type": "display_data"
    }
   ],
   "source": [
    "# Calculate correlation matrix\n",
    "correlation_matrix = df.drop('MarketSize',axis=1).corr()\n",
    "# Plot heatmap\n",
    "plt.figure(figsize=(10, 6))\n",
    "sns.heatmap(correlation_matrix, annot=True, cmap='coolwarm', fmt=\".2f\", linewidths=0.5)\n",
    "plt.title(\"Correlation Heatmap\")\n",
    "plt.show()"
   ]
  },
  {
   "cell_type": "markdown",
   "id": "9b90bc7d-a2a1-4460-816b-274d63b7f9b4",
   "metadata": {},
   "source": [
    "#### Key Findings from the Correlation Heatmap\n",
    "\n",
    "\n",
    "#### Strong Positive Correlations\n",
    "\n",
    "- The strongest positive correlation (1.0) is observed between the variables \"MarketID\" and \"LocationID\", indicating that these two variables are perfectly correlated.\n",
    "\n",
    "#### Moderate Negative Correlations\n",
    "\n",
    "- There are moderate negative correlations (-0.19) between \"SalesInThousands\" and both \"MarketID\" and \"LocationID\", indicating an inverse relationship between these variables.\n",
    "- A similar moderate negative correlation (-0.19) is observed between \"SalesInThousands\" and \"AgeOfStore\".\n",
    "\n",
    "#### Weak Correlations\n",
    "\n",
    "- The variable \"Promotion\" has weak correlations (around 0.06 or -0.06) with most other variables, suggesting that it is not strongly associated with the other factors.\n",
    "- The variable \"week\" has a weak negative correlation (-0.01) with \"SalesInThousands\", implying that the sales figures do not vary significantly with the week.\n"
   ]
  },
  {
   "cell_type": "markdown",
   "id": "e57573cf-1bae-4d60-ad37-20f6f4b803f9",
   "metadata": {},
   "source": [
    "## EDA and Visualizations"
   ]
  },
  {
   "cell_type": "code",
   "execution_count": 60,
   "id": "946a0559-307b-45b9-94af-41ec499e1d0c",
   "metadata": {},
   "outputs": [
    {
     "data": {
      "image/png": "[encoded data removed]",
      "text/plain": [
       "<Figure size 1000x600 with 1 Axes>"
      ]
     },
     "metadata": {},
     "output_type": "display_data"
    }
   ],
   "source": [
    "# Barplot of Sales by Promotion\n",
    "plt.figure(figsize=(10, 6))\n",
    "sns.barplot(x='Promotion', y='SalesInThousands', data=df)\n",
    "plt.title('Sales Distribution by Promotion')\n",
    "plt.ylabel('Sales in Thousands')\n",
    "plt.show()"
   ]
  },
  {
   "cell_type": "code",
   "execution_count": 66,
   "id": "4247a81c-7207-4615-b4ab-7fa20332db9b",
   "metadata": {},
   "outputs": [
    {
     "data": {
      "image/png": "[encoded data removed]",
      "text/plain": [
       "<Figure size 800x800 with 1 Axes>"
      ]
     },
     "metadata": {},
     "output_type": "display_data"
    }
   ],
   "source": [
    "import matplotlib.pyplot as plt\n",
    "\n",
    "# Calculate total sales by promotion\n",
    "sales_by_promotion = df.groupby('Promotion')['SalesInThousands'].sum()\n",
    "\n",
    "# Create a pie chart\n",
    "plt.figure(figsize=(8, 8))\n",
    "plt.pie(sales_by_promotion, labels=sales_by_promotion.index, autopct='%1.1f%%', startangle=140)\n",
    "plt.title('Sales Distribution by Promotion')\n",
    "plt.show()"
   ]
  },
  {
   "cell_type": "markdown",
   "id": "2e68f13b-7e33-4887-8f63-386db4c5126a",
   "metadata": {},
   "source": [
    "#### Key Findings from the Sales Distribution by Promotion \n",
    "\n",
    "1. **Uneven Distribution:** The sales are not evenly distributed across the three promotions.\n",
    "\n",
    "2. **Promotion 3 Dominance:** Promotion 3 has the highest share of sales, accounting for 35.5% of the total sales.\n",
    "\n",
    "3. **Promotion 1 and 2 Similarity:** Promotion 1 and 2 have similar sales shares, with 34.1% and 30.4%, respectively.\n",
    "\n",
    "#### Possible Interpretations:\n",
    "\n",
    "**Promotion 3 Effectiveness:** This promotion might be more attractive to customers, leading to higher sales.\n",
    "**Promotion 1 and 2 Comparability:** These promotions could be similar in terms of offerings and benefits, resulting in similar sales performance."
   ]
  },
  {
   "cell_type": "code",
   "execution_count": 81,
   "id": "2e2c8829-5049-4fc7-9044-8b375adbceb1",
   "metadata": {},
   "outputs": [
    {
     "data": {
      "text/html": [
       "<div>\n",
       "<style scoped>\n",
       "    .dataframe tbody tr th:only-of-type {\n",
       "        vertical-align: middle;\n",
       "    }\n",
       "\n",
       "    .dataframe tbody tr th {\n",
       "        vertical-align: top;\n",
       "    }\n",
       "\n",
       "    .dataframe thead th {\n",
       "        text-align: right;\n",
       "    }\n",
       "</style>\n",
       "<table border=\"1\" class=\"dataframe\">\n",
       "  <thead>\n",
       "    <tr style=\"text-align: right;\">\n",
       "      <th></th>\n",
       "      <th>Promotion</th>\n",
       "      <th>MarketSize</th>\n",
       "      <th>Count</th>\n",
       "    </tr>\n",
       "  </thead>\n",
       "  <tbody>\n",
       "    <tr>\n",
       "      <th>0</th>\n",
       "      <td>1</td>\n",
       "      <td>Large</td>\n",
       "      <td>56</td>\n",
       "    </tr>\n",
       "    <tr>\n",
       "      <th>1</th>\n",
       "      <td>1</td>\n",
       "      <td>Medium</td>\n",
       "      <td>96</td>\n",
       "    </tr>\n",
       "    <tr>\n",
       "      <th>2</th>\n",
       "      <td>1</td>\n",
       "      <td>Small</td>\n",
       "      <td>20</td>\n",
       "    </tr>\n",
       "    <tr>\n",
       "      <th>3</th>\n",
       "      <td>2</td>\n",
       "      <td>Large</td>\n",
       "      <td>64</td>\n",
       "    </tr>\n",
       "    <tr>\n",
       "      <th>4</th>\n",
       "      <td>2</td>\n",
       "      <td>Medium</td>\n",
       "      <td>108</td>\n",
       "    </tr>\n",
       "    <tr>\n",
       "      <th>5</th>\n",
       "      <td>2</td>\n",
       "      <td>Small</td>\n",
       "      <td>16</td>\n",
       "    </tr>\n",
       "    <tr>\n",
       "      <th>6</th>\n",
       "      <td>3</td>\n",
       "      <td>Large</td>\n",
       "      <td>48</td>\n",
       "    </tr>\n",
       "    <tr>\n",
       "      <th>7</th>\n",
       "      <td>3</td>\n",
       "      <td>Medium</td>\n",
       "      <td>116</td>\n",
       "    </tr>\n",
       "    <tr>\n",
       "      <th>8</th>\n",
       "      <td>3</td>\n",
       "      <td>Small</td>\n",
       "      <td>24</td>\n",
       "    </tr>\n",
       "  </tbody>\n",
       "</table>\n",
       "</div>"
      ],
      "text/plain": [
       "   Promotion MarketSize  Count\n",
       "0          1      Large     56\n",
       "1          1     Medium     96\n",
       "2          1      Small     20\n",
       "3          2      Large     64\n",
       "4          2     Medium    108\n",
       "5          2      Small     16\n",
       "6          3      Large     48\n",
       "7          3     Medium    116\n",
       "8          3      Small     24"
      ]
     },
     "execution_count": 81,
     "metadata": {},
     "output_type": "execute_result"
    }
   ],
   "source": [
    "# Now let's view the promotions for each market size\n",
    "df1=df.groupby(['Promotion', 'MarketSize'])['MarketID'].count().reset_index(name='Count')\n",
    "df1"
   ]
  },
  {
   "cell_type": "code",
   "execution_count": 85,
   "id": "661d4577-2559-4639-92b2-7c59d3fd5c12",
   "metadata": {},
   "outputs": [
    {
     "data": {
      "image/png": "[encoded data removed]",
      "text/plain": [
       "<Figure size 640x480 with 1 Axes>"
      ]
     },
     "metadata": {},
     "output_type": "display_data"
    }
   ],
   "source": [
    "sns.barplot(data=df1, x='MarketSize',y='Count',hue='Promotion')\n",
    "plt.savefig('1')\n",
    "plt.show()"
   ]
  },
  {
   "cell_type": "markdown",
   "id": "b4966cb7-8ba0-43c9-a088-bdb889bb2b9a",
   "metadata": {},
   "source": [
    "**Large Market Size:**\n",
    "Promotion 1 and Promotion 2 have similar contributions to sales, with Promotion 2 being slightly higher.\n",
    "Promotion 3 has a relatively low impact on sales in large markets.\n",
    "\n",
    "**Medium Market Size:**\n",
    "Promotion 3 dominates the sales, accounting for a significantly higher proportion compared to other promotion types.\n",
    "Promotion 1 and Promotion 2 have smaller, but still notable, contributions to sales in medium-sized markets.\n",
    "\n",
    "**Small Market Size:**\n",
    "Promotion 1 and Promotion 3 have relatively equal shares of sales in small markets.\n",
    "Promotion 2 has a minimal impact on sales in small markets."
   ]
  },
  {
   "cell_type": "markdown",
   "id": "63410b5a-2669-406f-afb4-c09692b5b991",
   "metadata": {},
   "source": [
    "# Performing A/B Testing"
   ]
  },
  {
   "cell_type": "code",
   "execution_count": 115,
   "id": "327b1236-de9f-434b-93ea-77af9d771cec",
   "metadata": {},
   "outputs": [
    {
     "name": "stdout",
     "output_type": "stream",
     "text": [
      "Means:\n",
      " Promotion\n",
      "1    58.099012\n",
      "2    47.329415\n",
      "3    55.364468\n",
      "Name: SalesInThousands, dtype: float64\n",
      "\n",
      "\n",
      "Standard Deviations:\n",
      " Promotion\n",
      "1    16.553782\n",
      "2    15.108955\n",
      "3    16.766231\n",
      "Name: SalesInThousands, dtype: float64\n",
      "\n",
      "\n",
      "Counts:\n",
      " Promotion\n",
      "1    172\n",
      "2    188\n",
      "3    188\n",
      "Name: SalesInThousands, dtype: int64\n"
     ]
    }
   ],
   "source": [
    "means = df.groupby('Promotion')['SalesInThousands'].mean()\n",
    "stds = df.groupby('Promotion')['SalesInThousands'].std()\n",
    "ns = df.groupby('Promotion')['SalesInThousands'].count()\n",
    "\n",
    "print(\"Means:\\n\", means)\n",
    "print(\"\\n\\nStandard Deviations:\\n\", stds)\n",
    "print(\"\\n\\nCounts:\\n\", ns)\n"
   ]
  },
  {
   "cell_type": "markdown",
   "id": "b2ed2710-19be-497c-9b1a-079c81b117a6",
   "metadata": {},
   "source": [
    ".\n",
    ".\n",
    ".\n",
    "\n",
    "**T-Value**\n",
    "\n",
    "The t-value measures the degree of difference relative to the variation in our data groups. Large t-values indicate a higher degree of difference between the grups. \n",
    "\n",
    "**P-Value**\n",
    "\n",
    "P-value measures the probability that the results would occur by random chance. Therefore the smaller the p-value is, the more statistically significant difference there will be between the two groups"
   ]
  },
  {
   "cell_type": "markdown",
   "id": "e0c9aff8-7740-4863-b58e-e3cffe8cf470",
   "metadata": {},
   "source": [
    "### Comparing Promotion 1 vs Promotion 2 in an A/B Test"
   ]
  },
  {
   "cell_type": "code",
   "execution_count": 104,
   "id": "cccce925-fc86-4ff3-8611-fd442a411ff0",
   "metadata": {},
   "outputs": [
    {
     "name": "stdout",
     "output_type": "stream",
     "text": [
      "t-value = 6.42752867090748\n",
      "p-value = 4.2903687179871785e-10\n"
     ]
    }
   ],
   "source": [
    "# Computing the t and p values using scipy \n",
    "from scipy import stats\n",
    "\n",
    "t, p = stats.ttest_ind(df.loc[df['Promotion'] == 1, 'SalesInThousands'].values,\n",
    "                       df.loc[df['Promotion'] == 2, 'SalesInThousands'].values, \n",
    "                       equal_var=False)\n",
    "print(\"t-value = \" +str(t))\n",
    "print(\"p-value = \" +str(p))"
   ]
  },
  {
   "cell_type": "markdown",
   "id": "f6926e7c-53bc-4ba7-9f36-fd407ef670cb",
   "metadata": {},
   "source": [
    "#### Interpretation of t-test Results:\n",
    "\n",
    "- **t-value**: 6.43  \n",
    "  This indicates a large difference between the means of Promotion 1 and Promotion 2, relative to the variability within each promotion. A higher t-value suggests a larger difference in sales between the two promotions.\n",
    "\n",
    "- **p-value**: 4.29e-10  \n",
    "  The p-value is extremely small (well below the common significance level of 0.05), indicating that the difference in sales between Promotion 1 and Promotion 2 is **statistically significant**.  \n",
    "  This means we can  **reject the null hypothesis**, suggesting that there is a significant difference in sales between the two promotions.\n",
    "\n",
    "#### Mean of Sales:\n",
    "\n",
    "- **Promotion 1**: 58.10 (thousand dollars)\n",
    "- **Promotion 2**: 47.33 (thousand dollars)\n",
    "- **Promotion 3**: 55.36 (thousand dollars)\n",
    "\n",
    "#### Conclusion:\n",
    "Given the high t-value and the very small p-value, **Promotion 1** ( high mean)  has a significantly higher impact on sales than **Promotion 2**. \r\n"
   ]
  },
  {
   "cell_type": "markdown",
   "id": "c4a3439d-983a-4aee-809e-201ba76d590a",
   "metadata": {},
   "source": [
    "### Comparing Promotion 1 vs Promotion 3 in an A/B Test"
   ]
  },
  {
   "cell_type": "code",
   "execution_count": 119,
   "id": "ea083bc9-06c5-41da-aa15-c9797d9ae55c",
   "metadata": {},
   "outputs": [
    {
     "name": "stdout",
     "output_type": "stream",
     "text": [
      "t-value = 1.5560224307758634\n",
      "p-value = 0.12059147742229478\n"
     ]
    }
   ],
   "source": [
    "t, p = stats.ttest_ind(\n",
    "    df.loc[df['Promotion'] == 1, 'SalesInThousands'].values, \n",
    "    df.loc[df['Promotion'] == 3, 'SalesInThousands'].values, \n",
    "    equal_var=False)\n",
    "\n",
    "print(\"t-value = \" +str(t))\n",
    "print(\"p-value = \" +str(p))"
   ]
  },
  {
   "cell_type": "markdown",
   "id": "fa8368c8-8c5f-4e92-b023-9fd6ea4427f4",
   "metadata": {},
   "source": [
    "#### Interpretation of Results:\r\n",
    "\r\n",
    "- **t-value**: 1.56  \r\n",
    "  This indicates the difference between the means of Promotion 1 and Promotion 3, relative to the variability within each promotion. A higher t-value suggests a larger difference relative to variability, but the p-value gives more actionable insight.\r\n",
    "\r\n",
    "- **p-value**: 0.12  \r\n",
    "  The p-value of 0.12 is greater than the common significance level of 0.05, which means the difference in sales between Promotion 1 and Promotion 3 is not statistically significant.  \r\n",
    "  This suggests that we do not have enough evidence to conclude that the sales for Promotion 1 and Promotion 3 are different in a statistically meaningful wa#y.\r\n",
    "\r\n",
    "### Conclusion:\r\n",
    "Based on these results, we would fail to reject the null hypothesis, meaning there is no strong statistical evidence to suggest that the difference in sales between Promotion 1 and Promotion 3 is significant level.\r\n",
    "ce.\r\n",
    "\r\n"
   ]
  },
  {
   "cell_type": "markdown",
   "id": "b9c4668b-5fd5-4685-a45a-26ac1d68d5b4",
   "metadata": {},
   "source": [
    "---------------------------------------------------------------------------------------------------------------------------------"
   ]
  },
  {
   "cell_type": "code",
   "execution_count": null,
   "id": "05fb4f20-b2a6-444d-8db9-bfcae1c29e50",
   "metadata": {},
   "outputs": [],
   "source": []
  }
 ],
 "metadata": {
  "kernelspec": {
   "display_name": "Python 3 (ipykernel)",
   "language": "python",
   "name": "python3"
  },
  "language_info": {
   "codemirror_mode": {
    "name": "ipython",
    "version": 3
   },
   "file_extension": ".py",
   "mimetype": "text/x-python",
   "name": "python",
   "nbconvert_exporter": "python",
   "pygments_lexer": "ipython3",
   "version": "3.12.4"
  }
 },
 "nbformat": 4,
 "nbformat_minor": 5
}
